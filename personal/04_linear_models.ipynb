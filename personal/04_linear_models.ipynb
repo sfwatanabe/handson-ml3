{
 "cells": [
  {
   "cell_type": "markdown",
   "id": "ce2bf3920c17cb02",
   "metadata": {},
   "source": [
    "# Training Linear Models\n",
    "\n",
    "$$\\hat{y} = h_{\\theta}(\\boldsymbol{x}) = \\theta \\cdot \\boldsymbol{x}$$\n",
    "\n",
    "\n",
    "Create a function and a feature vector to show examples"
   ]
  },
  {
   "cell_type": "code",
   "execution_count": 1,
   "id": "d34d14ac6d041e1f",
   "metadata": {
    "collapsed": false,
    "tags": [],
    "ExecuteTime": {
     "end_time": "2023-08-06T18:08:38.792423200Z",
     "start_time": "2023-08-06T18:08:38.130201400Z"
    }
   },
   "outputs": [],
   "source": [
    "%matplotlib inline"
   ]
  },
  {
   "cell_type": "code",
   "execution_count": 2,
   "id": "6c238cc18de6e115",
   "metadata": {
    "collapsed": false,
    "tags": [],
    "ExecuteTime": {
     "end_time": "2023-08-06T18:08:38.807423Z",
     "start_time": "2023-08-06T18:08:38.793423400Z"
    }
   },
   "outputs": [],
   "source": [
    "import numpy as np\n",
    "import matplotlib.pyplot as plt\n",
    "\n",
    "np.random.seed(42)\n",
    "\n",
    "# Number of instances to create\n",
    "m = 100\n",
    "\n",
    "# Create a column vector for the feature\n",
    "X = 2 * np.random.rand(m, 1)\n",
    "\n",
    "# Create a function with some random noise\n",
    "y = 4 + 3*X + np.random.randn(m, 1)"
   ]
  },
  {
   "cell_type": "code",
   "execution_count": 3,
   "outputs": [],
   "source": [
    "def scatter_plot(X, y, X_new = None, y_predict = None):\n",
    "    if X_new is not None and y_predict is not None:\n",
    "        plt.plot(X_new, y_predict, \"r-\", label=\"Predictions\")\n",
    "    plt.scatter(x=X, y=y)\n",
    "    plt.xlabel(\"$x_1$\")\n",
    "    plt.ylabel(\"$y$\", rotation=0)\n",
    "    # plt.axis([0, 2, 0, 15])\n",
    "    plt.legend(loc=\"lower right\")\n",
    "    plt.grid()\n",
    "    plt.tight_layout()\n",
    "    plt.show()"
   ],
   "metadata": {
    "collapsed": false,
    "ExecuteTime": {
     "end_time": "2023-08-06T18:08:38.839422600Z",
     "start_time": "2023-08-06T18:08:38.809423200Z"
    }
   },
   "id": "ffb4f3d4d2d2977d"
  },
  {
   "cell_type": "code",
   "execution_count": 4,
   "id": "b6dd03557a8d30c0",
   "metadata": {
    "collapsed": false,
    "ExecuteTime": {
     "end_time": "2023-08-06T18:08:38.841425400Z",
     "start_time": "2023-08-06T18:08:38.826424300Z"
    }
   },
   "outputs": [
    {
     "data": {
      "text/plain": "array([[0.74908024],\n       [1.90142861],\n       [1.46398788],\n       [1.19731697],\n       [0.31203728],\n       [0.31198904],\n       [0.11616722],\n       [1.73235229],\n       [1.20223002],\n       [1.41614516],\n       [0.04116899],\n       [1.9398197 ],\n       [1.66488528],\n       [0.42467822],\n       [0.36364993],\n       [0.36680902],\n       [0.60848449],\n       [1.04951286],\n       [0.86389004],\n       [0.58245828],\n       [1.22370579],\n       [0.27898772],\n       [0.5842893 ],\n       [0.73272369],\n       [0.91213997],\n       [1.57035192],\n       [0.39934756],\n       [1.02846888],\n       [1.18482914],\n       [0.09290083],\n       [1.2150897 ],\n       [0.34104825],\n       [0.13010319],\n       [1.89777107],\n       [1.93126407],\n       [1.6167947 ],\n       [0.60922754],\n       [0.19534423],\n       [1.36846605],\n       [0.88030499],\n       [0.24407647],\n       [0.99035382],\n       [0.06877704],\n       [1.8186408 ],\n       [0.51755996],\n       [1.32504457],\n       [0.62342215],\n       [1.04013604],\n       [1.09342056],\n       [0.36970891],\n       [1.93916926],\n       [1.55026565],\n       [1.87899788],\n       [1.7896547 ],\n       [1.19579996],\n       [1.84374847],\n       [0.176985  ],\n       [0.39196572],\n       [0.09045458],\n       [0.65066066],\n       [0.77735458],\n       [0.54269806],\n       [1.65747502],\n       [0.71350665],\n       [0.56186902],\n       [1.08539217],\n       [0.28184845],\n       [1.60439396],\n       [0.14910129],\n       [1.97377387],\n       [1.54448954],\n       [0.39743136],\n       [0.01104423],\n       [1.63092286],\n       [1.41371469],\n       [1.45801434],\n       [1.54254069],\n       [0.1480893 ],\n       [0.71693146],\n       [0.23173812],\n       [1.72620685],\n       [1.24659625],\n       [0.66179605],\n       [0.1271167 ],\n       [0.62196464],\n       [0.65036664],\n       [1.45921236],\n       [1.27511494],\n       [1.77442549],\n       [0.94442985],\n       [0.23918849],\n       [1.42648957],\n       [1.5215701 ],\n       [1.1225544 ],\n       [1.54193436],\n       [0.98759119],\n       [1.04546566],\n       [0.85508204],\n       [0.05083825],\n       [0.21578285]])"
     },
     "execution_count": 4,
     "metadata": {},
     "output_type": "execute_result"
    }
   ],
   "source": [
    "X"
   ]
  },
  {
   "cell_type": "code",
   "execution_count": 5,
   "id": "7b251fc13ff20a9f",
   "metadata": {
    "collapsed": false,
    "ExecuteTime": {
     "end_time": "2023-08-06T18:08:39.151505500Z",
     "start_time": "2023-08-06T18:08:38.847433900Z"
    }
   },
   "outputs": [
    {
     "data": {
      "text/plain": "<Figure size 640x480 with 1 Axes>",
      "image/png": "[encoded data removed]"
     },
     "metadata": {},
     "output_type": "display_data"
    }
   ],
   "source": [
    "plt.scatter(x=X, y=y)\n",
    "plt.xlabel(\"$x_1$\")\n",
    "plt.ylabel(\"$y$\", rotation=0)\n",
    "plt.axis([0, 2, 0, 15])\n",
    "plt.grid()\n",
    "plt.tight_layout()\n",
    "plt.show()"
   ]
  },
  {
   "cell_type": "code",
   "execution_count": 6,
   "id": "d999f9ca1731d696",
   "metadata": {
    "collapsed": false,
    "ExecuteTime": {
     "end_time": "2023-08-06T18:08:39.225020900Z",
     "start_time": "2023-08-06T18:08:39.152502100Z"
    }
   },
   "outputs": [],
   "source": [
    "plt.close()"
   ]
  },
  {
   "cell_type": "code",
   "execution_count": 7,
   "id": "98b93752373963fa",
   "metadata": {
    "collapsed": false,
    "ExecuteTime": {
     "end_time": "2023-08-06T18:08:40.172484300Z",
     "start_time": "2023-08-06T18:08:39.168023400Z"
    }
   },
   "outputs": [
    {
     "data": {
      "text/plain": "array([[1.        , 0.74908024],\n       [1.        , 1.90142861],\n       [1.        , 1.46398788],\n       [1.        , 1.19731697],\n       [1.        , 0.31203728]])"
     },
     "execution_count": 7,
     "metadata": {},
     "output_type": "execute_result"
    }
   ],
   "source": [
    "# We can setup our own computations for the regression coefficients\n",
    "from sklearn.preprocessing import add_dummy_feature\n",
    "\n",
    "X_b = add_dummy_feature(X)  # Prepends a column vector of all 1s for the first constant term x_0\n",
    "X_b[:5]"
   ]
  },
  {
   "cell_type": "markdown",
   "id": "571050320cca0e27",
   "metadata": {},
   "source": [
    "Notice how the dummy feature method added the column vector with all 1's so that we can use this with our linear combinations. We can use this along with the normal equation to calculate the best $\\theta$, or $\\hat{x}$, for the problem.\n",
    "\n",
    "\n",
    "# $$\\hat{\\theta} = (\\boldsymbol{X}^T\\boldsymbol{X})^{-1}\\boldsymbol{X^T}\\boldsymbol{y}$$\n",
    "\n",
    "Where $\\boldsymbol{X}$ is a matrix of with dimensions $m \\times n$"
   ]
  },
  {
   "cell_type": "code",
   "execution_count": 8,
   "id": "edba9975627ba1f6",
   "metadata": {
    "collapsed": false,
    "ExecuteTime": {
     "end_time": "2023-08-06T18:08:40.205484Z",
     "start_time": "2023-08-06T18:08:40.173484700Z"
    }
   },
   "outputs": [
    {
     "data": {
      "text/plain": "array([[4.21509616],\n       [2.77011339]])"
     },
     "execution_count": 8,
     "metadata": {},
     "output_type": "execute_result"
    }
   ],
   "source": [
    "# We can use the linear algebra library of numpy for these calcs\n",
    "theta_best = np.linalg.inv(X_b.T @ X_b) @ X_b.T @ y\n",
    "theta_best"
   ]
  },
  {
   "cell_type": "markdown",
   "id": "dc67333a0a46f936",
   "metadata": {},
   "source": [
    "While we don't get the exact coefficients, we still get close. This is due in part to the fact that we must consider the irreducible error for the system we're trying to solve. The irreducible error is also referred to as $\\epsilon$"
   ]
  },
  {
   "cell_type": "code",
   "execution_count": 9,
   "id": "dd276b82f4732593",
   "metadata": {
    "collapsed": false,
    "ExecuteTime": {
     "end_time": "2023-08-06T18:08:40.231484100Z",
     "start_time": "2023-08-06T18:08:40.208485200Z"
    }
   },
   "outputs": [
    {
     "data": {
      "text/plain": "array([[1., 0.],\n       [1., 2.],\n       [1., 4.]])"
     },
     "execution_count": 9,
     "metadata": {},
     "output_type": "execute_result"
    }
   ],
   "source": [
    "# We can use theta to try and make predictions on new feature sets\n",
    "X_new = np.array([[0], [2], [4]])\n",
    "\n",
    "# I believe the author chooses b to represent the bias term with the 1, as it will be the coeff of \\theta_0\n",
    "X_new_b = add_dummy_feature(X_new)\n",
    "X_new_b"
   ]
  },
  {
   "cell_type": "code",
   "execution_count": 10,
   "id": "e719362fcbdbd987",
   "metadata": {
    "collapsed": false,
    "ExecuteTime": {
     "end_time": "2023-08-06T18:08:40.268011300Z",
     "start_time": "2023-08-06T18:08:40.224486Z"
    }
   },
   "outputs": [
    {
     "data": {
      "text/plain": "array([[ 4.21509616],\n       [ 9.75532293],\n       [15.2955497 ]])"
     },
     "execution_count": 10,
     "metadata": {},
     "output_type": "execute_result"
    }
   ],
   "source": [
    "y_predict = X_new_b @ theta_best\n",
    "y_predict"
   ]
  },
  {
   "cell_type": "code",
   "execution_count": 11,
   "id": "26c49176000fc909",
   "metadata": {
    "collapsed": false,
    "ExecuteTime": {
     "end_time": "2023-08-06T18:08:40.432533Z",
     "start_time": "2023-08-06T18:08:40.238487400Z"
    }
   },
   "outputs": [
    {
     "data": {
      "text/plain": "<Figure size 640x480 with 1 Axes>",
      "image/png": "[encoded data removed]"
     },
     "metadata": {},
     "output_type": "display_data"
    }
   ],
   "source": [
    "# We can plot against the original datapoints to see how close our fit is\n",
    "plt.plot(X_new, y_predict, \"r-\", label=\"Predictions\")\n",
    "plt.scatter(x=X, y=y)\n",
    "plt.xlabel(\"$x_1$\")\n",
    "plt.ylabel(\"$y$\", rotation=0)\n",
    "plt.axis([0, 2, 0, 15])\n",
    "plt.legend(loc=\"lower right\")\n",
    "plt.grid()\n",
    "plt.tight_layout()\n",
    "plt.show()"
   ]
  },
  {
   "cell_type": "code",
   "execution_count": 12,
   "id": "14dde3bde5a835ba",
   "metadata": {
    "collapsed": false,
    "tags": [],
    "ExecuteTime": {
     "end_time": "2023-08-06T18:08:40.612249700Z",
     "start_time": "2023-08-06T18:08:40.423532300Z"
    }
   },
   "outputs": [
    {
     "data": {
      "text/plain": "(array([4.21509616]), array([[2.77011339]]))"
     },
     "execution_count": 12,
     "metadata": {},
     "output_type": "execute_result"
    }
   ],
   "source": [
    "# We can accomplish the exact same thing with the base LinReg model from sklearn\n",
    "from sklearn.linear_model import LinearRegression\n",
    "\n",
    "\n",
    "lin_reg = LinearRegression()\n",
    "lin_reg.fit(X, y)\n",
    "lin_reg.intercept_, lin_reg.coef_"
   ]
  },
  {
   "cell_type": "code",
   "execution_count": 13,
   "id": "9dd2fddb3815da78",
   "metadata": {
    "collapsed": false,
    "tags": [],
    "ExecuteTime": {
     "end_time": "2023-08-06T18:08:40.670783Z",
     "start_time": "2023-08-06T18:08:40.613249900Z"
    }
   },
   "outputs": [
    {
     "data": {
      "text/plain": "array([[ 4.21509616],\n       [ 9.75532293],\n       [15.2955497 ]])"
     },
     "execution_count": 13,
     "metadata": {},
     "output_type": "execute_result"
    }
   ],
   "source": [
    "lin_reg.predict(X_new)"
   ]
  },
  {
   "cell_type": "markdown",
   "id": "6e11381da2f2ee2",
   "metadata": {},
   "source": [
    "Notice that we come up with the exact same fit. This is because the Linear Regression approach is formulaic, always using the normal equation to fit the best line to the data. This is grounded in the concepts of column spaces and projections from Linear Algebra.\n",
    "\n",
    "To say that sklearn uses the exact same method would be incorrect. Sklearn uses an alternate method and calculates the *pseudoinverse* of $X$. More specifically this is the [Moore-Penrose inverse](https://en.wikipedia.org/wiki/Moore%E2%80%93Penrose_inverse). Computationally more efficient when dealing with large N, as well as handling edge cases where an invertible matrix may not exist.\n",
    "\n",
    "**Caveats: Both methods chug on large data sets on the order of > 100,000**"
   ]
  },
  {
   "cell_type": "markdown",
   "id": "71e19545d9378a7b",
   "metadata": {},
   "source": [
    "# Gradient Descent to the Rescue\n",
    "\n",
    "Better option for large data sets.\n",
    "\n",
    "- Generic optimization algorithm that can apply to a wide range of problem classes"
   ]
  },
  {
   "cell_type": "code",
   "execution_count": 14,
   "id": "98caaa72ce68239",
   "metadata": {
    "collapsed": false,
    "tags": [],
    "ExecuteTime": {
     "end_time": "2023-08-06T18:08:40.692788Z",
     "start_time": "2023-08-06T18:08:40.630251100Z"
    }
   },
   "outputs": [],
   "source": [
    "# Simple SGD with a basic learning schedul\n",
    "\n",
    "n_epochs = 50\n",
    "t0, t1 = 5, 50  # learning schedule hyperparameters\n",
    "\n",
    "def learning_schedule(t):\n",
    "    return t0 / (t + t1)\n",
    "\n",
    "np.random.seed(42)\n",
    "theta = np.random.randn(2, 1)  # random initialization\n",
    "\n",
    "for epoch in range(n_epochs):\n",
    "    for iteration in range(m):\n",
    "        random_index = np.random.randint(m)\n",
    "        xi = X_b[random_index : random_index + 1]\n",
    "        yi = y[random_index : random_index + 1]\n",
    "        gradients = 2 * xi.T @ (xi @ theta - yi)  # for SGD, do not divide by m\n",
    "        eta = learning_schedule(epoch * m + iteration)\n",
    "        # TODO you could plot the line defined by theta at each step to see progress\n",
    "        theta = theta - eta * gradients"
   ]
  },
  {
   "cell_type": "code",
   "execution_count": 15,
   "id": "f5eace46a7ecee7a",
   "metadata": {
    "collapsed": false,
    "tags": [],
    "ExecuteTime": {
     "end_time": "2023-08-06T18:08:40.729783100Z",
     "start_time": "2023-08-06T18:08:40.691786100Z"
    }
   },
   "outputs": [
    {
     "data": {
      "text/plain": "array([[4.21076011],\n       [2.74856079]])"
     },
     "execution_count": 15,
     "metadata": {},
     "output_type": "execute_result"
    }
   ],
   "source": [
    "theta"
   ]
  },
  {
   "cell_type": "code",
   "execution_count": 16,
   "id": "bea68df394ae5241",
   "metadata": {
    "collapsed": false,
    "tags": [],
    "ExecuteTime": {
     "end_time": "2023-08-06T18:08:40.731783300Z",
     "start_time": "2023-08-06T18:08:40.707782200Z"
    }
   },
   "outputs": [
    {
     "data": {
      "text/plain": "SGDRegressor(n_iter_no_change=100, penalty=None, random_state=42, tol=1e-05)",
      "text/html": "<style>#sk-container-id-1 {color: black;}#sk-container-id-1 pre{padding: 0;}#sk-container-id-1 div.sk-toggleable {background-color: white;}#sk-container-id-1 label.sk-toggleable__label {cursor: pointer;display: block;width: 100%;margin-bottom: 0;padding: 0.3em;box-sizing: border-box;text-align: center;}#sk-container-id-1 label.sk-toggleable__label-arrow:before {content: \"▸\";float: left;margin-right: 0.25em;color: #696969;}#sk-container-id-1 label.sk-toggleable__label-arrow:hover:before {color: black;}#sk-container-id-1 div.sk-estimator:hover label.sk-toggleable__label-arrow:before {color: black;}#sk-container-id-1 div.sk-toggleable__content {max-height: 0;max-width: 0;overflow: hidden;text-align: left;background-color: #f0f8ff;}#sk-container-id-1 div.sk-toggleable__content pre {margin: 0.2em;color: black;border-radius: 0.25em;background-color: #f0f8ff;}#sk-container-id-1 input.sk-toggleable__control:checked~div.sk-toggleable__content {max-height: 200px;max-width: 100%;overflow: auto;}#sk-container-id-1 input.sk-toggleable__control:checked~label.sk-toggleable__label-arrow:before {content: \"▾\";}#sk-container-id-1 div.sk-estimator input.sk-toggleable__control:checked~label.sk-toggleable__label {background-color: #d4ebff;}#sk-container-id-1 div.sk-label input.sk-toggleable__control:checked~label.sk-toggleable__label {background-color: #d4ebff;}#sk-container-id-1 input.sk-hidden--visually {border: 0;clip: rect(1px 1px 1px 1px);clip: rect(1px, 1px, 1px, 1px);height: 1px;margin: -1px;overflow: hidden;padding: 0;position: absolute;width: 1px;}#sk-container-id-1 div.sk-estimator {font-family: monospace;background-color: #f0f8ff;border: 1px dotted black;border-radius: 0.25em;box-sizing: border-box;margin-bottom: 0.5em;}#sk-container-id-1 div.sk-estimator:hover {background-color: #d4ebff;}#sk-container-id-1 div.sk-parallel-item::after {content: \"\";width: 100%;border-bottom: 1px solid gray;flex-grow: 1;}#sk-container-id-1 div.sk-label:hover label.sk-toggleable__label {background-color: #d4ebff;}#sk-container-id-1 div.sk-serial::before {content: \"\";position: absolute;border-left: 1px solid gray;box-sizing: border-box;top: 0;bottom: 0;left: 50%;z-index: 0;}#sk-container-id-1 div.sk-serial {display: flex;flex-direction: column;align-items: center;background-color: white;padding-right: 0.2em;padding-left: 0.2em;position: relative;}#sk-container-id-1 div.sk-item {position: relative;z-index: 1;}#sk-container-id-1 div.sk-parallel {display: flex;align-items: stretch;justify-content: center;background-color: white;position: relative;}#sk-container-id-1 div.sk-item::before, #sk-container-id-1 div.sk-parallel-item::before {content: \"\";position: absolute;border-left: 1px solid gray;box-sizing: border-box;top: 0;bottom: 0;left: 50%;z-index: -1;}#sk-container-id-1 div.sk-parallel-item {display: flex;flex-direction: column;z-index: 1;position: relative;background-color: white;}#sk-container-id-1 div.sk-parallel-item:first-child::after {align-self: flex-end;width: 50%;}#sk-container-id-1 div.sk-parallel-item:last-child::after {align-self: flex-start;width: 50%;}#sk-container-id-1 div.sk-parallel-item:only-child::after {width: 0;}#sk-container-id-1 div.sk-dashed-wrapped {border: 1px dashed gray;margin: 0 0.4em 0.5em 0.4em;box-sizing: border-box;padding-bottom: 0.4em;background-color: white;}#sk-container-id-1 div.sk-label label {font-family: monospace;font-weight: bold;display: inline-block;line-height: 1.2em;}#sk-container-id-1 div.sk-label-container {text-align: center;}#sk-container-id-1 div.sk-container {/* jupyter's `normalize.less` sets `[hidden] { display: none; }` but bootstrap.min.css set `[hidden] { display: none !important; }` so we also need the `!important` here to be able to override the default hidden behavior on the sphinx rendered scikit-learn.org. See: https://github.com/scikit-learn/scikit-learn/issues/21755 */display: inline-block !important;position: relative;}#sk-container-id-1 div.sk-text-repr-fallback {display: none;}</style><div id=\"sk-container-id-1\" class=\"sk-top-container\"><div class=\"sk-text-repr-fallback\"><pre>SGDRegressor(n_iter_no_change=100, penalty=None, random_state=42, tol=1e-05)</pre><b>In a Jupyter environment, please rerun this cell to show the HTML representation or trust the notebook. <br />On GitHub, the HTML representation is unable to render, please try loading this page with nbviewer.org.</b></div><div class=\"sk-container\" hidden><div class=\"sk-item\"><div class=\"sk-estimator sk-toggleable\"><input class=\"sk-toggleable__control sk-hidden--visually\" id=\"sk-estimator-id-1\" type=\"checkbox\" checked><label for=\"sk-estimator-id-1\" class=\"sk-toggleable__label sk-toggleable__label-arrow\">SGDRegressor</label><div class=\"sk-toggleable__content\"><pre>SGDRegressor(n_iter_no_change=100, penalty=None, random_state=42, tol=1e-05)</pre></div></div></div></div></div>"
     },
     "execution_count": 16,
     "metadata": {},
     "output_type": "execute_result"
    }
   ],
   "source": [
    "# Or we can use sklearn impl\n",
    "from sklearn.linear_model import SGDRegressor\n",
    "\n",
    "sgd_reg = SGDRegressor(max_iter=1000, tol=1e-5, penalty=None, eta0=0.01,\n",
    "                      n_iter_no_change=100, random_state=42)\n",
    "sgd_reg.fit(X, y.ravel())"
   ]
  },
  {
   "cell_type": "code",
   "execution_count": 17,
   "id": "499879f78f5ca538",
   "metadata": {
    "collapsed": false,
    "tags": [],
    "ExecuteTime": {
     "end_time": "2023-08-06T18:08:40.746790Z",
     "start_time": "2023-08-06T18:08:40.721791200Z"
    }
   },
   "outputs": [
    {
     "data": {
      "text/plain": "(array([4.21278812]), array([2.77270267]))"
     },
     "execution_count": 17,
     "metadata": {},
     "output_type": "execute_result"
    }
   ],
   "source": [
    "sgd_reg.intercept_, sgd_reg.coef_"
   ]
  },
  {
   "cell_type": "markdown",
   "source": [
    "# Polynomial Regression\n",
    "\n",
    "\n",
    "We can use polynomial regression to fit our approximation function, $\\hat{f}(x) = \\hat{y}$ to the data points if we believe the relationship to be non-linear.\n",
    "\n",
    "***NOTE: We don't want to arbitrarily increase the degree of polynomial for better in-sample scores. Overfitting should be a big consideration here.***"
   ],
   "metadata": {
    "collapsed": false
   },
   "id": "4387466432afbcd0"
  },
  {
   "cell_type": "code",
   "execution_count": 18,
   "id": "615e603b15367110",
   "metadata": {
    "collapsed": false,
    "ExecuteTime": {
     "end_time": "2023-08-06T18:08:40.759301Z",
     "start_time": "2023-08-06T18:08:40.738796600Z"
    }
   },
   "outputs": [],
   "source": [
    "# Generate some non-linear data and plot it\n",
    "np.random.seed(42)\n",
    "m = 100\n",
    "X = 6 * np.random.rand(m, 1) - 3\n",
    "y = 0.5 * X ** 2 + X + 2 + np.random.randn(m, 1)"
   ]
  },
  {
   "cell_type": "code",
   "execution_count": 19,
   "id": "ebbe86f6898574f8",
   "metadata": {
    "collapsed": false,
    "ExecuteTime": {
     "end_time": "2023-08-06T18:08:40.908438800Z",
     "start_time": "2023-08-06T18:08:40.753792400Z"
    }
   },
   "outputs": [
    {
     "name": "stderr",
     "output_type": "stream",
     "text": [
      "No artists with labels found to put in legend.  Note that artists whose label start with an underscore are ignored when legend() is called with no argument.\n"
     ]
    },
    {
     "data": {
      "text/plain": "<Figure size 640x480 with 1 Axes>",
      "image/png": "[encoded data removed]"
     },
     "metadata": {},
     "output_type": "display_data"
    }
   ],
   "source": [
    "scatter_plot(X, y)"
   ]
  },
  {
   "cell_type": "code",
   "execution_count": 20,
   "id": "33780f3f05dfb699",
   "metadata": {
    "collapsed": false,
    "ExecuteTime": {
     "end_time": "2023-08-06T18:08:40.920438300Z",
     "start_time": "2023-08-06T18:08:40.907440600Z"
    }
   },
   "outputs": [
    {
     "data": {
      "text/plain": "(array([-0.75275929]), array([-0.75275929,  0.56664654]))"
     },
     "execution_count": 20,
     "metadata": {},
     "output_type": "execute_result"
    }
   ],
   "source": [
    "# Get a polynomial fitter, we could just use polyfit tbh\n",
    "from sklearn.preprocessing import PolynomialFeatures\n",
    "\n",
    "poly_features = PolynomialFeatures(degree=2, include_bias=False)\n",
    "X_poly = poly_features.fit_transform(X)\n",
    "X[0], X_poly[0]"
   ]
  },
  {
   "cell_type": "markdown",
   "source": [
    "The amazing thing here is that this still just uses the normal equation.\n",
    "\n",
    "$$A^TA\\hat{x} = A^Tb$$\n",
    "\n",
    "$$\n",
    "\\begin{equation}\n",
    "A $=\n",
    "\\begin{bmatrix}\n",
    "1 & x_1 & x_1^2 \\\\\n",
    "1 & x_2 & x_2^2 \\\\\n",
    "1 & x_3 & x_3^2\n",
    "\\end{bmatrix}\n",
    "\\end{equation}\n",
    "\n",
    "$$"
   ],
   "metadata": {
    "collapsed": false
   },
   "id": "f73d2448674a097e"
  },
  {
   "cell_type": "code",
   "execution_count": 21,
   "outputs": [
    {
     "data": {
      "text/plain": "(array([1.78134581]), array([[0.93366893, 0.56456263]]))"
     },
     "execution_count": 21,
     "metadata": {},
     "output_type": "execute_result"
    }
   ],
   "source": [
    "lin_reg = LinearRegression()\n",
    "lin_reg.fit(X_poly, y)\n",
    "lin_reg.intercept_, lin_reg.coef_"
   ],
   "metadata": {
    "collapsed": false,
    "ExecuteTime": {
     "end_time": "2023-08-06T18:08:41.028957300Z",
     "start_time": "2023-08-06T18:08:40.921439800Z"
    }
   },
   "id": "d8962243009e098c"
  },
  {
   "cell_type": "code",
   "execution_count": 22,
   "outputs": [],
   "source": [
    "y_new = lin_reg.predict(X_poly)"
   ],
   "metadata": {
    "collapsed": false,
    "ExecuteTime": {
     "end_time": "2023-08-06T18:08:41.040955700Z",
     "start_time": "2023-08-06T18:08:40.937440900Z"
    }
   },
   "id": "1b896149b91074fd"
  },
  {
   "cell_type": "code",
   "execution_count": 23,
   "outputs": [
    {
     "name": "stderr",
     "output_type": "stream",
     "text": [
      "No artists with labels found to put in legend.  Note that artists whose label start with an underscore are ignored when legend() is called with no argument.\n"
     ]
    },
    {
     "data": {
      "text/plain": "<Figure size 640x480 with 1 Axes>",
      "image/png": "[encoded data removed]"
     },
     "metadata": {},
     "output_type": "display_data"
    }
   ],
   "source": [
    "scatter_plot(X, y)"
   ],
   "metadata": {
    "collapsed": false,
    "ExecuteTime": {
     "end_time": "2023-08-06T18:08:41.114473600Z",
     "start_time": "2023-08-06T18:08:40.953447900Z"
    }
   },
   "id": "7016108bb1d2a080"
  },
  {
   "cell_type": "code",
   "execution_count": 24,
   "outputs": [
    {
     "data": {
      "text/plain": "array([[1.39842532],\n       [8.43499142],\n       [4.17485459],\n       [2.53185804],\n       [2.25918793],\n       [2.25939008],\n       [3.27484983],\n       [6.55784665],\n       [2.55559366],\n       [3.82689353],\n       [3.76696465],\n       [8.90169299],\n       [5.88989222],\n       [1.85167304],\n       [2.05645803],\n       [2.0449286 ],\n       [1.46355599],\n       [1.93248803],\n       [1.49423227],\n       [1.49764679],\n       [2.66222542],\n       [2.40322072],\n       [1.49502331],\n       [1.3956771 ],\n       [1.57447195],\n       [5.03178213],\n       [1.93207743],\n       [1.86520541],\n       [2.47263182],\n       [3.42140098],\n       [2.61888173],\n       [2.14190381],\n       [3.18970382],\n       [8.39130997],\n       [8.79638932],\n       [5.44200996],\n       [1.46268375],\n       [2.81734047],\n       [3.50326369],\n       [1.51887514],\n       [2.56742224],\n       [1.75479958],\n       [3.57916148],\n       [7.47955479],\n       [1.61263738],\n       [3.22863242],\n       [1.44709879],\n       [1.90195223],\n       [2.08736191],\n       [2.03443439],\n       [8.89366107],\n       [4.8611505 ],\n       [8.16924409],\n       [7.16149437],\n       [2.52457873],\n       [7.7619586 ],\n       [2.91775243],\n       [1.95673578],\n       [3.43712908],\n       [1.42292667],\n       [1.4095878 ],\n       [1.56301774],\n       [5.81934649],\n       [1.39592177],\n       [1.52949263],\n       [2.05758006],\n       [2.39031461],\n       [5.33032964],\n       [3.07680827],\n       [9.32693832],\n       [4.81284186],\n       [1.93842511],\n       [3.98072454],\n       [5.57115179],\n       [3.80983753],\n       [4.13013805],\n       [4.79661914],\n       [3.08272947],\n       [1.39560336],\n       [2.62841658],\n       [6.49508918],\n       [2.78104162],\n       [1.41521603],\n       [3.20778451],\n       [1.44860474],\n       [1.42314733],\n       [4.13907708],\n       [2.93652136],\n       [6.99780775],\n       [1.64138398],\n       [2.5914008 ],\n       [3.90015774],\n       [4.62449623],\n       [2.20093695],\n       [4.79157972],\n       [1.74737103],\n       [1.91919863],\n       [1.48213813],\n       [3.70030835],\n       [2.70958481]])"
     },
     "execution_count": 24,
     "metadata": {},
     "output_type": "execute_result"
    }
   ],
   "source": [
    "y_new"
   ],
   "metadata": {
    "collapsed": false,
    "ExecuteTime": {
     "end_time": "2023-08-06T18:08:41.130475300Z",
     "start_time": "2023-08-06T18:08:41.109477300Z"
    }
   },
   "id": "e86346d6997ec7c"
  },
  {
   "cell_type": "code",
   "execution_count": 53,
   "outputs": [
    {
     "data": {
      "text/plain": "array([0.56456263, 0.93366893, 1.78134581])"
     },
     "execution_count": 53,
     "metadata": {},
     "output_type": "execute_result"
    }
   ],
   "source": [
    "my_coeffs = np.append(lin_reg.intercept_, lin_reg.coef_)\n",
    "my_coeffs[::-1]"
   ],
   "metadata": {
    "collapsed": false,
    "ExecuteTime": {
     "end_time": "2023-08-06T18:20:18.886860500Z",
     "start_time": "2023-08-06T18:20:18.864859400Z"
    }
   },
   "id": "b799e5077e8a5842"
  },
  {
   "cell_type": "code",
   "execution_count": 54,
   "outputs": [
    {
     "data": {
      "text/plain": "array([4.06140272, 3.76941373, 3.49435456, 3.23622522, 2.99502571,\n       2.77075602, 2.56341615, 2.37300611, 2.1995259 , 2.04297551,\n       1.90335494, 1.7806642 , 1.67490328, 1.58607219, 1.51417093,\n       1.45919949, 1.42115787, 1.40004608, 1.39586411, 1.40861197,\n       1.43828965, 1.48489716, 1.54843449, 1.62890165, 1.72629864,\n       1.84062544, 1.97188208, 2.12006853, 2.28518482, 2.46723093,\n       2.66620686, 2.88211262, 3.1149482 , 3.36471361, 3.63140884,\n       3.91503389, 4.21558878, 4.53307348, 4.86748802, 5.21883237,\n       5.58710655, 5.97231056, 6.37444439, 6.79350805, 7.22950153,\n       7.68242484, 8.15227797, 8.63906092, 9.14277371, 9.66341631])"
     },
     "execution_count": 54,
     "metadata": {},
     "output_type": "execute_result"
    }
   ],
   "source": [
    "domain = np.linspace(-3, 3)\n",
    "y_polys = np.polyval(my_coeffs[::-1], domain)\n",
    "y_polys"
   ],
   "metadata": {
    "collapsed": false,
    "ExecuteTime": {
     "end_time": "2023-08-06T18:20:29.173768600Z",
     "start_time": "2023-08-06T18:20:29.141771700Z"
    }
   },
   "id": "1850f45cccea892d"
  },
  {
   "cell_type": "code",
   "execution_count": 55,
   "outputs": [
    {
     "data": {
      "text/plain": "<Figure size 640x480 with 1 Axes>",
      "image/png": "[encoded data removed]"
     },
     "metadata": {},
     "output_type": "display_data"
    }
   ],
   "source": [
    "scatter_plot(X, y, domain, y_polys)"
   ],
   "metadata": {
    "collapsed": false,
    "ExecuteTime": {
     "end_time": "2023-08-06T18:20:31.304280600Z",
     "start_time": "2023-08-06T18:20:31.156757500Z"
    }
   },
   "id": "ce984328064e5000"
  },
  {
   "cell_type": "code",
   "execution_count": null,
   "outputs": [],
   "source": [],
   "metadata": {
    "collapsed": false
   },
   "id": "64e0cdc1d917b3b3"
  }
 ],
 "metadata": {
  "kernelspec": {
   "display_name": "Python 3 (ipykernel)",
   "language": "python",
   "name": "python3"
  },
  "language_info": {
   "codemirror_mode": {
    "name": "ipython",
    "version": 3
   },
   "file_extension": ".py",
   "mimetype": "text/x-python",
   "name": "python",
   "nbconvert_exporter": "python",
   "pygments_lexer": "ipython3",
   "version": "3.8.17"
  }
 },
 "nbformat": 4,
 "nbformat_minor": 5
}
