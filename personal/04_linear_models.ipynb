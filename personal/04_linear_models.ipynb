{
 "cells": [
  {
   "cell_type": "markdown",
   "source": [
    "# Training Linear Models\n",
    "\n",
    "$$\\hat{y} = h_{\\theta}(\\boldsymbol{x}) = \\theta \\cdot \\boldsymbol{x}$$\n",
    "\n",
    "\n",
    "Create a function and a feature vector to show examples"
   ],
   "metadata": {
    "collapsed": false
   },
   "id": "ce2bf3920c17cb02"
  },
  {
   "cell_type": "code",
   "execution_count": 4,
   "outputs": [],
   "source": [
    "%matplotlib inline"
   ],
   "metadata": {
    "collapsed": false,
    "ExecuteTime": {
     "end_time": "2023-08-04T23:50:01.341759400Z",
     "start_time": "2023-08-04T23:50:01.316763Z"
    }
   },
   "id": "d34d14ac6d041e1f"
  },
  {
   "cell_type": "code",
   "execution_count": 5,
   "outputs": [],
   "source": [
    "import numpy as np\n",
    "import matplotlib.pyplot as plt\n",
    "\n",
    "np.random.seed(42)\n",
    "\n",
    "# Number of instances to create\n",
    "m = 100\n",
    "\n",
    "# Create a column vector for the feature\n",
    "X = 2 * np.random.rand(m, 1)\n",
    "\n",
    "# Create a function with some random noise\n",
    "y = 4 + 3*X + np.random.randn(m, 1)"
   ],
   "metadata": {
    "collapsed": false,
    "ExecuteTime": {
     "end_time": "2023-08-04T23:50:03.508447600Z",
     "start_time": "2023-08-04T23:50:03.487938800Z"
    }
   },
   "id": "6c238cc18de6e115"
  },
  {
   "cell_type": "code",
   "execution_count": 6,
   "outputs": [
    {
     "data": {
      "text/plain": "array([[0.74908024],\n       [1.90142861],\n       [1.46398788],\n       [1.19731697],\n       [0.31203728],\n       [0.31198904],\n       [0.11616722],\n       [1.73235229],\n       [1.20223002],\n       [1.41614516],\n       [0.04116899],\n       [1.9398197 ],\n       [1.66488528],\n       [0.42467822],\n       [0.36364993],\n       [0.36680902],\n       [0.60848449],\n       [1.04951286],\n       [0.86389004],\n       [0.58245828],\n       [1.22370579],\n       [0.27898772],\n       [0.5842893 ],\n       [0.73272369],\n       [0.91213997],\n       [1.57035192],\n       [0.39934756],\n       [1.02846888],\n       [1.18482914],\n       [0.09290083],\n       [1.2150897 ],\n       [0.34104825],\n       [0.13010319],\n       [1.89777107],\n       [1.93126407],\n       [1.6167947 ],\n       [0.60922754],\n       [0.19534423],\n       [1.36846605],\n       [0.88030499],\n       [0.24407647],\n       [0.99035382],\n       [0.06877704],\n       [1.8186408 ],\n       [0.51755996],\n       [1.32504457],\n       [0.62342215],\n       [1.04013604],\n       [1.09342056],\n       [0.36970891],\n       [1.93916926],\n       [1.55026565],\n       [1.87899788],\n       [1.7896547 ],\n       [1.19579996],\n       [1.84374847],\n       [0.176985  ],\n       [0.39196572],\n       [0.09045458],\n       [0.65066066],\n       [0.77735458],\n       [0.54269806],\n       [1.65747502],\n       [0.71350665],\n       [0.56186902],\n       [1.08539217],\n       [0.28184845],\n       [1.60439396],\n       [0.14910129],\n       [1.97377387],\n       [1.54448954],\n       [0.39743136],\n       [0.01104423],\n       [1.63092286],\n       [1.41371469],\n       [1.45801434],\n       [1.54254069],\n       [0.1480893 ],\n       [0.71693146],\n       [0.23173812],\n       [1.72620685],\n       [1.24659625],\n       [0.66179605],\n       [0.1271167 ],\n       [0.62196464],\n       [0.65036664],\n       [1.45921236],\n       [1.27511494],\n       [1.77442549],\n       [0.94442985],\n       [0.23918849],\n       [1.42648957],\n       [1.5215701 ],\n       [1.1225544 ],\n       [1.54193436],\n       [0.98759119],\n       [1.04546566],\n       [0.85508204],\n       [0.05083825],\n       [0.21578285]])"
     },
     "execution_count": 6,
     "metadata": {},
     "output_type": "execute_result"
    }
   ],
   "source": [
    "X"
   ],
   "metadata": {
    "collapsed": false,
    "ExecuteTime": {
     "end_time": "2023-08-04T23:50:04.697545200Z",
     "start_time": "2023-08-04T23:50:04.690545900Z"
    }
   },
   "id": "b6dd03557a8d30c0"
  },
  {
   "cell_type": "code",
   "execution_count": 11,
   "outputs": [
    {
     "data": {
      "text/plain": "<Figure size 640x480 with 1 Axes>",
      "image/png": "[encoded data removed]"
     },
     "metadata": {},
     "output_type": "display_data"
    }
   ],
   "source": [
    "plt.scatter(x=X, y=y)\n",
    "plt.xlabel(\"$x_1$\")\n",
    "plt.ylabel(\"$y$\", rotation=0)\n",
    "plt.axis([0, 2, 0, 15])\n",
    "plt.grid()\n",
    "plt.tight_layout()\n",
    "plt.show()"
   ],
   "metadata": {
    "collapsed": false,
    "ExecuteTime": {
     "end_time": "2023-08-04T23:51:41.161789500Z",
     "start_time": "2023-08-04T23:51:41.097280200Z"
    }
   },
   "id": "7b251fc13ff20a9f"
  },
  {
   "cell_type": "code",
   "execution_count": 12,
   "outputs": [],
   "source": [
    "plt.close()"
   ],
   "metadata": {
    "collapsed": false,
    "ExecuteTime": {
     "end_time": "2023-08-04T23:51:52.170346Z",
     "start_time": "2023-08-04T23:51:52.161346500Z"
    }
   },
   "id": "d999f9ca1731d696"
  },
  {
   "cell_type": "code",
   "execution_count": 13,
   "outputs": [
    {
     "data": {
      "text/plain": "array([[1.        , 0.74908024],\n       [1.        , 1.90142861],\n       [1.        , 1.46398788],\n       [1.        , 1.19731697],\n       [1.        , 0.31203728]])"
     },
     "execution_count": 13,
     "metadata": {},
     "output_type": "execute_result"
    }
   ],
   "source": [
    "# We can setup our own computations for the regression coefficients\n",
    "from sklearn.preprocessing import add_dummy_feature\n",
    "\n",
    "X_b = add_dummy_feature(X)  # Prepends a column vector of all 1s for the first constant term x_0\n",
    "X_b[:5]"
   ],
   "metadata": {
    "collapsed": false,
    "ExecuteTime": {
     "end_time": "2023-08-04T23:53:25.251925900Z",
     "start_time": "2023-08-04T23:53:24.555576200Z"
    }
   },
   "id": "98b93752373963fa"
  },
  {
   "cell_type": "markdown",
   "source": [
    "Notice how the dummy feature method added the column vector with all 1's so that we can use this with our linear combinations. We can use this along with the normal equation to calculate the best $\\theta$, or $\\hat{x}$, for the problem.\n",
    "\n",
    "\n",
    "# $$\\hat{\\theta} = (\\boldsymbol{X}^T\\boldsymbol{X})^{-1}\\boldsymbol{X^T}\\boldsymbol{y}$$\n",
    "\n",
    "Where $\\boldsymbol{X}$ is a matrix of with dimensions $m \\times n$"
   ],
   "metadata": {
    "collapsed": false
   },
   "id": "571050320cca0e27"
  },
  {
   "cell_type": "code",
   "execution_count": 14,
   "outputs": [
    {
     "data": {
      "text/plain": "array([[4.21509616],\n       [2.77011339]])"
     },
     "execution_count": 14,
     "metadata": {},
     "output_type": "execute_result"
    }
   ],
   "source": [
    "# We can use the linear algebra library of numpy for these calcs\n",
    "theta_best = np.linalg.inv(X_b.T @ X_b) @ X_b.T @ y\n",
    "theta_best"
   ],
   "metadata": {
    "collapsed": false,
    "ExecuteTime": {
     "end_time": "2023-08-04T23:58:43.907982600Z",
     "start_time": "2023-08-04T23:58:43.896910900Z"
    }
   },
   "id": "edba9975627ba1f6"
  },
  {
   "cell_type": "markdown",
   "source": [
    "While we don't get the exact coefficients, we still get close. This is due in part to the fact that we must consider the irreducible error for the system we're trying to solve. The irreducible error is also referred to as $\\epsilon$"
   ],
   "metadata": {
    "collapsed": false
   },
   "id": "dc67333a0a46f936"
  },
  {
   "cell_type": "code",
   "execution_count": 16,
   "outputs": [
    {
     "data": {
      "text/plain": "array([[1., 0.],\n       [1., 2.],\n       [1., 4.]])"
     },
     "execution_count": 16,
     "metadata": {},
     "output_type": "execute_result"
    }
   ],
   "source": [
    "# We can use theta to try and make predictions on new feature sets\n",
    "X_new = np.array([[0], [2], [4]])\n",
    "\n",
    "# I believe the author chooses b to represent the bias term with the 1, as it will be the coeff of \\theta_0\n",
    "X_new_b = add_dummy_feature(X_new)\n",
    "X_new_b"
   ],
   "metadata": {
    "collapsed": false,
    "ExecuteTime": {
     "end_time": "2023-08-05T00:02:09.296745Z",
     "start_time": "2023-08-05T00:02:09.279745600Z"
    }
   },
   "id": "dd276b82f4732593"
  },
  {
   "cell_type": "code",
   "execution_count": 17,
   "outputs": [
    {
     "data": {
      "text/plain": "array([[ 4.21509616],\n       [ 9.75532293],\n       [15.2955497 ]])"
     },
     "execution_count": 17,
     "metadata": {},
     "output_type": "execute_result"
    }
   ],
   "source": [
    "y_predict = X_new_b @ theta_best\n",
    "y_predict"
   ],
   "metadata": {
    "collapsed": false,
    "ExecuteTime": {
     "end_time": "2023-08-05T00:02:27.516570600Z",
     "start_time": "2023-08-05T00:02:27.501571200Z"
    }
   },
   "id": "e719362fcbdbd987"
  },
  {
   "cell_type": "code",
   "execution_count": 18,
   "outputs": [
    {
     "data": {
      "text/plain": "<Figure size 640x480 with 1 Axes>",
      "image/png": "[encoded data removed]"
     },
     "metadata": {},
     "output_type": "display_data"
    }
   ],
   "source": [
    "# We can plot against the original datapoints to see how close our fit is\n",
    "plt.plot(X_new, y_predict, \"r-\", label=\"Predictions\")\n",
    "plt.scatter(x=X, y=y)\n",
    "plt.xlabel(\"$x_1$\")\n",
    "plt.ylabel(\"$y$\", rotation=0)\n",
    "plt.axis([0, 2, 0, 15])\n",
    "plt.legend(loc=\"lower right\")\n",
    "plt.grid()\n",
    "plt.tight_layout()\n",
    "plt.show()"
   ],
   "metadata": {
    "collapsed": false,
    "ExecuteTime": {
     "end_time": "2023-08-05T00:03:35.184285600Z",
     "start_time": "2023-08-05T00:03:35.124286100Z"
    }
   },
   "id": "26c49176000fc909"
  },
  {
   "cell_type": "code",
   "execution_count": 19,
   "outputs": [
    {
     "data": {
      "text/plain": "(array([4.21509616]), array([[2.77011339]]))"
     },
     "execution_count": 19,
     "metadata": {},
     "output_type": "execute_result"
    }
   ],
   "source": [
    "# We can accomplish the exact same thing with the base LinReg model from sklearn\n",
    "from sklearn.linear_model import LinearRegression\n",
    "\n",
    "\n",
    "lin_reg = LinearRegression()\n",
    "lin_reg.fit(X, y)\n",
    "lin_reg.intercept_, lin_reg.coef_"
   ],
   "metadata": {
    "collapsed": false,
    "ExecuteTime": {
     "end_time": "2023-08-05T00:04:33.631136800Z",
     "start_time": "2023-08-05T00:04:33.538627600Z"
    }
   },
   "id": "14dde3bde5a835ba"
  },
  {
   "cell_type": "code",
   "execution_count": 20,
   "outputs": [
    {
     "data": {
      "text/plain": "array([[ 4.21509616],\n       [ 9.75532293],\n       [15.2955497 ]])"
     },
     "execution_count": 20,
     "metadata": {},
     "output_type": "execute_result"
    }
   ],
   "source": [
    "lin_reg.predict(X_new)"
   ],
   "metadata": {
    "collapsed": false,
    "ExecuteTime": {
     "end_time": "2023-08-05T00:04:44.743831800Z",
     "start_time": "2023-08-05T00:04:44.722832500Z"
    }
   },
   "id": "9dd2fddb3815da78"
  },
  {
   "cell_type": "markdown",
   "source": [
    "Notice that we come up with the exact same fit. This is because the Linear Regression approach is formulaic, always using the normal equation to fit the best line to the data. This is grounded in the concepts of column spaces and projections from Linear Algebra."
   ],
   "metadata": {
    "collapsed": false
   },
   "id": "6e11381da2f2ee2"
  },
  {
   "cell_type": "code",
   "execution_count": null,
   "outputs": [],
   "source": [],
   "metadata": {
    "collapsed": false
   },
   "id": "a0a61c94ba706265"
  },
  {
   "cell_type": "code",
   "execution_count": null,
   "outputs": [],
   "source": [],
   "metadata": {
    "collapsed": false
   },
   "id": "98caaa72ce68239"
  },
  {
   "cell_type": "code",
   "execution_count": null,
   "outputs": [],
   "source": [],
   "metadata": {
    "collapsed": false
   },
   "id": "f5eace46a7ecee7a"
  },
  {
   "cell_type": "code",
   "execution_count": null,
   "outputs": [],
   "source": [],
   "metadata": {
    "collapsed": false
   },
   "id": "bea68df394ae5241"
  },
  {
   "cell_type": "code",
   "execution_count": null,
   "outputs": [],
   "source": [],
   "metadata": {
    "collapsed": false
   },
   "id": "499879f78f5ca538"
  },
  {
   "cell_type": "code",
   "execution_count": null,
   "outputs": [],
   "source": [],
   "metadata": {
    "collapsed": false
   },
   "id": "590fe1692f7aa09b"
  },
  {
   "cell_type": "code",
   "execution_count": null,
   "outputs": [],
   "source": [],
   "metadata": {
    "collapsed": false
   },
   "id": "615e603b15367110"
  },
  {
   "cell_type": "code",
   "execution_count": null,
   "outputs": [],
   "source": [],
   "metadata": {
    "collapsed": false
   },
   "id": "ebbe86f6898574f8"
  },
  {
   "cell_type": "code",
   "execution_count": null,
   "outputs": [],
   "source": [],
   "metadata": {
    "collapsed": false
   },
   "id": "33780f3f05dfb699"
  }
 ],
 "metadata": {
  "kernelspec": {
   "display_name": "Python 3",
   "language": "python",
   "name": "python3"
  },
  "language_info": {
   "codemirror_mode": {
    "name": "ipython",
    "version": 2
   },
   "file_extension": ".py",
   "mimetype": "text/x-python",
   "name": "python",
   "nbconvert_exporter": "python",
   "pygments_lexer": "ipython2",
   "version": "2.7.6"
  }
 },
 "nbformat": 4,
 "nbformat_minor": 5
}
